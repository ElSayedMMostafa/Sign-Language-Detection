{
 "cells": [
  {
   "cell_type": "code",
   "execution_count": 67,
   "metadata": {},
   "outputs": [],
   "source": [
    "import numpy as np\n",
    "from matplotlib import pyplot as plt\n",
    "import cv2"
   ]
  },
  {
   "cell_type": "markdown",
   "metadata": {},
   "source": [
    "## Capture\n"
   ]
  },
  {
   "cell_type": "code",
   "execution_count": 74,
   "metadata": {},
   "outputs": [],
   "source": [
    "# define a video capture object\n",
    "vid = cv2.VideoCapture(0)\n",
    "  \n",
    "while(True):\n",
    "      \n",
    "    # Capture the video frame\n",
    "    # by frame\n",
    "    ret, frame = vid.read()\n",
    "  \n",
    "    # Display the resulting frame\n",
    "    cv2.imshow('frame', frame)\n",
    "      \n",
    "    # the 'q' button is set as the\n",
    "    # quitting button you may use any\n",
    "    # desired button of your choice\n",
    "    if cv2.waitKey(1) & 0xFF == ord('q'):\n",
    "        break\n",
    "  \n",
    "# After the loop release the cap object\n",
    "vid.release()\n",
    "# Destroy all the windows\n",
    "cv2.destroyAllWindows()"
   ]
  },
  {
   "cell_type": "markdown",
   "metadata": {},
   "source": [
    "## Thresholding"
   ]
  },
  {
   "cell_type": "code",
   "execution_count": 75,
   "metadata": {},
   "outputs": [],
   "source": [
    "img_path = 'hand.jpg'\n",
    "# Read the image using openCV\n",
    "original_img = cv2.imread(img_path)\n",
    "original_img = frame\n",
    "img = cv2.cvtColor(original_img, cv2.COLOR_BGR2HSV)\n",
    "lower = np.array([0,40,40], dtype=np.uint8)\n",
    "upper = np.array([20,255,255], dtype=np.uint8)\n",
    "skinRegionHSV = cv2.inRange(img, lower, upper)\n",
    "blurred = cv2.blur(skinRegionHSV, (2,2))\n",
    "ret,thresh = cv2.threshold(blurred,0,255,cv2.THRESH_BINARY)\n",
    "\n",
    "cv2.imshow('thresh',thresh)\n",
    "cv2.waitKey(0) # Wait for user input, press any key\n",
    "cv2.destroyAllWindows()\n"
   ]
  },
  {
   "cell_type": "markdown",
   "metadata": {},
   "source": [
    "## Contours"
   ]
  },
  {
   "cell_type": "code",
   "execution_count": 76,
   "metadata": {},
   "outputs": [],
   "source": [
    "contours, hierarchy = cv2.findContours(thresh, cv2.RETR_TREE, cv2.CHAIN_APPROX_SIMPLE)\n",
    "contours = max(contours, key=lambda x: cv2.contourArea(x))\n",
    "cv2.drawContours(img, [contours], -1, (255,255,0), 2)\n",
    "cv2.imshow(\"contours\", img)\n",
    "\n",
    "cv2.waitKey(0) # Wait for user input, press any key\n",
    "cv2.destroyAllWindows()"
   ]
  },
  {
   "cell_type": "markdown",
   "metadata": {},
   "source": [
    "## Convex Hull"
   ]
  },
  {
   "cell_type": "code",
   "execution_count": 77,
   "metadata": {},
   "outputs": [],
   "source": [
    "hull = cv2.convexHull(contours)\n",
    "cv2.drawContours(img, [hull], -1, (0, 255, 255), 2)\n",
    "cv2.imshow(\"hull\", img)\n",
    "\n",
    "cv2.waitKey(0) # Wait for user input, press any key\n",
    "cv2.destroyAllWindows()"
   ]
  },
  {
   "cell_type": "markdown",
   "metadata": {},
   "source": [
    "## ROI Extraction"
   ]
  },
  {
   "cell_type": "code",
   "execution_count": 78,
   "metadata": {},
   "outputs": [
    {
     "name": "stdout",
     "output_type": "stream",
     "text": [
      "42 276 142 479\n"
     ]
    }
   ],
   "source": [
    "min_x, max_x, min_y, max_y = min(hull[:,:,0])[0], max(hull[:,:,0])[0],min(hull[:,:,1])[0],max(hull[:,:,1])[0]\n",
    "print(min_x, max_x, min_y, max_y)"
   ]
  },
  {
   "cell_type": "code",
   "execution_count": 40,
   "metadata": {},
   "outputs": [],
   "source": [
    "delta = 10\n",
    "roi = img[max(0,min_y-delta):min(max_y+delta, img.shape[0]), max(0,min_x-delta):min(max_x+delta,img.shape[1])]\n",
    "cv2.imshow(\"roi\", roi)\n",
    "\n",
    "cv2.waitKey(0) # Wait for user input, press any key\n",
    "cv2.destroyAllWindows()"
   ]
  },
  {
   "cell_type": "markdown",
   "metadata": {},
   "source": [
    "# Complete Function to be used"
   ]
  },
  {
   "cell_type": "code",
   "execution_count": 79,
   "metadata": {},
   "outputs": [],
   "source": [
    "def segment_hand(frame, delta=10):\n",
    "    \"\"\"\"\n",
    "    This function extract the area of an image which contains a hand.\n",
    "    @ Parameters:\n",
    "        frame: the frame (image) to extract the hand region from\n",
    "        delta: relaxation parameter (0:20) default value = 10\n",
    "    @ Returns:\n",
    "        roi: The region of interest which includes the hand\n",
    "    \"\"\"\n",
    "    # Skin color limits\n",
    "    lower_limit = np.array([0,40,40], dtype=np.uint8)\n",
    "    upper_limit = np.array([20,255,255], dtype=np.uint8)\n",
    "    # Convert color to HSV domain\n",
    "    img = cv2.cvtColor(frame, cv2.COLOR_BGR2HSV)\n",
    "    # Decide the skin region\n",
    "    skin_region = cv2.inRange(img, lower_limit, upper_limit)\n",
    "    # Apply thresholding segmentation\n",
    "    ret,thresholded = cv2.threshold(skin_region,0,255,cv2.THRESH_BINARY)\n",
    "    # Find contours around the thresholded regions\n",
    "    contours, hierarchy = cv2.findContours(thresholded, cv2.RETR_TREE, cv2.CHAIN_APPROX_SIMPLE)\n",
    "    contours = max(contours, key=lambda x: cv2.contourArea(x))\n",
    "    # Apply convex hull algorithm\n",
    "    convex_hull = cv2.convexHull(contours)\n",
    "    # Decide the area of contours (with delta relaxation)\n",
    "    min_x, max_x, min_y, max_y = min(convex_hull[:,:,0])[0], max(convex_hull[:,:,0])[0],min(convex_hull[:,:,1])[0],max(convex_hull[:,:,1])[0]\n",
    "    roi = [max(0,min_y-delta), min(max_y+delta, frame.shape[0]), max(0,min_x-delta), min(max_x+delta,frame.shape[1])]\n",
    "    return roi"
   ]
  },
  {
   "cell_type": "code",
   "execution_count": 80,
   "metadata": {},
   "outputs": [
    {
     "data": {
      "text/plain": [
       "[132, 480, 32, 286]"
      ]
     },
     "execution_count": 80,
     "metadata": {},
     "output_type": "execute_result"
    }
   ],
   "source": [
    "roi_ = segment_hand(frame,10)\n",
    "roi_"
   ]
  },
  {
   "cell_type": "code",
   "execution_count": 81,
   "metadata": {},
   "outputs": [],
   "source": [
    "roi_ = segment_hand(frame,10)\n",
    "cv2.imshow(\"roi\", frame[roi_[0]:roi_[1], roi_[2]:roi_[3]])\n",
    "\n",
    "cv2.waitKey(0) # Wait for userinput, press any key\n",
    "cv2.destroyAllWindows()"
   ]
  }
 ],
 "metadata": {
  "kernelspec": {
   "display_name": "Python 3",
   "language": "python",
   "name": "python3"
  },
  "language_info": {
   "codemirror_mode": {
    "name": "ipython",
    "version": 3
   },
   "file_extension": ".py",
   "mimetype": "text/x-python",
   "name": "python",
   "nbconvert_exporter": "python",
   "pygments_lexer": "ipython3",
   "version": "3.8.5"
  }
 },
 "nbformat": 4,
 "nbformat_minor": 4
}
